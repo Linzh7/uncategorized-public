{
    "cells": [
        {
            "cell_type": "code",
            "execution_count": null,
            "metadata": {},
            "outputs": [],
            "source": [
                "import cv2\n",
                "import numpy as np\n",
                "import pywt\n",
                "import math\n",
                "import matplotlib.pyplot as plt\n",
                "\n",
                "\n",
                "def hardThreshold(value, threshold):\n",
                "    if abs(value) < threshold:\n",
                "        return 0\n",
                "    else:\n",
                "        return value\n",
                "\n",
                "\n",
                "def softThreshold(value, threshold):\n",
                "    if abs(value) < threshold:\n",
                "        return 0\n",
                "    else:\n",
                "        if value<0:\n",
                "            return value+threshold\n",
                "        else:\n",
                "            return value-threshold\n",
                "\n",
                "def cDxTHreshole(cDx, threshold,method):\n",
                "    if method == 'hard':\n",
                "        print('hard')\n",
                "    elif method=='soft':\n",
                "        print('soft')\n",
                "    for i in range(len(cDx)):\n",
                "        for x in range(cDx[i].shape[0]):\n",
                "            for y in range(cDx[i].shape[1]):\n",
                "                if method=='hard':\n",
                "                    cDx[i][x][y] = hardThreshold(cDx[i][x][y], threshold)\n",
                "                elif method=='soft':\n",
                "                    cDx[i][x][y] = softThreshold(cDx[i][x][y], threshold)\n"
            ]
        },
        {
            "cell_type": "code",
            "execution_count": null,
            "metadata": {},
            "outputs": [],
            "source": [
                "mean = 0\n",
                "var = 20\n",
                "rawImage = cv2.imread(\"img.jpg\", 0)\n",
                "gaussianNoise = np.random.normal(mean, var, rawImage.shape)\n",
                "img = rawImage+gaussianNoise"
            ]
        },
        {
            "cell_type": "code",
            "execution_count": null,
            "metadata": {},
            "outputs": [],
            "source": [
                "print(pywt.wavelist('rbio'))\n"
            ]
        },
        {
            "cell_type": "code",
            "execution_count": null,
            "metadata": {},
            "outputs": [],
            "source": [
                "wavelet = 'rbio3.3'\n",
                "method = 'hard'\n",
                "levels = 3 if int(math.floor(math.log2(img.shape[0]))) > 3 else int(math.floor(math.log2(img.shape[0])))\n",
                "print(levels)\n",
                "CA = pywt.wavedec2(img, wavelet, level=levels)\n"
            ]
        },
        {
            "cell_type": "code",
            "execution_count": null,
            "metadata": {},
            "outputs": [],
            "source": [
                "# minimaxi\n",
                "if img.size<32:\n",
                "    threshold=0\n",
                "else:\n",
                "    threshold=0.3936+0.1829*(math.log(img.size)/math.log(2))\n",
                "threshold\n"
            ]
        },
        {
            "cell_type": "code",
            "execution_count": null,
            "metadata": {},
            "outputs": [],
            "source": [
                "# rigrsure\n",
                "crit=math.sqrt((math.log(img.size)/math.log(2))**3/img.size)\n",
                "\n",
                "eta=0\n",
                "for i in CA[1:]:\n",
                "    for j in i:\n",
                "        for k in j:\n",
                "            for p in k:\n",
                "                eta += p*p-img.size\n",
                "eta/=img.size\n",
                "if eta<crit:\n",
                "    threshold = var*math.sqrt(2*math.log2(img.size))\n",
                "else:\n",
                "    threshold = min(eta, crit)\n",
                "threshold\n"
            ]
        },
        {
            "cell_type": "code",
            "execution_count": null,
            "metadata": {},
            "outputs": [],
            "source": [
                "threshold = var*math.sqrt(2*math.log2(img.size))"
            ]
        },
        {
            "cell_type": "code",
            "execution_count": null,
            "metadata": {},
            "outputs": [],
            "source": [
                "print(threshold)\n",
                "maxLevel=2\n",
                "for i in range(1, len(CA)):\n",
                "    if i > maxLevel:\n",
                "        break\n",
                "    cDxTHreshole(CA[i], threshold, method)\n",
                "\n",
                "rImg = pywt.waverec2(CA, wavelet)\n",
                "line = np.zeros((img.shape[0], 5))\n",
                "result = np.hstack((rawImage, line, img, line, rImg))\n",
                "plt.figure(dpi=300)\n",
                "plt.imshow(result, cmap=plt.cm.gray)\n",
                "cv2.imwrite('imgout_certain_{}_{}_{}-{}.jpg'.format(wavelet, method, maxLevel, levels), result)\n"
            ]
        },
        {
            "cell_type": "code",
            "execution_count": null,
            "metadata": {},
            "outputs": [],
            "source": []
        }
    ],
    "metadata": {
        "interpreter": {
            "hash": "9ed8222cd9c015138d1ffd24021f41caff546197900055b8ae1399cb44a00606"
        },
        "kernelspec": {
            "display_name": "Python 3.8.5 64-bit ('base': conda)",
            "name": "python3"
        },
        "language_info": {
            "codemirror_mode": {
                "name": "ipython",
                "version": 3
            },
            "file_extension": ".py",
            "mimetype": "text/x-python",
            "name": "python",
            "nbconvert_exporter": "python",
            "pygments_lexer": "ipython3",
            "version": "3.8.5"
        },
        "orig_nbformat": 4
    },
    "nbformat": 4,
    "nbformat_minor": 2
}
