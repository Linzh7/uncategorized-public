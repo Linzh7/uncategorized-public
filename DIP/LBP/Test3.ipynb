{
 "cells": [
  {
   "cell_type": "code",
   "execution_count": null,
   "metadata": {},
   "outputs": [],
   "source": [
    "def loadPicture():\n",
    "    train_index = 0;\n",
    "    test_index = 0;\n",
    "    train_data = np.zeros( (200,171,171) );\n",
    "    test_data = np.zeros( (160,171,171) );\n",
    "    train_label = np.zeros( (200) );\n",
    "    test_label = np.zeros( (160) );\n",
    "    for i in np.arange(40):\n",
    "        image = mpimg.imread('picture/'+str(i)+'.tiff');\n",
    "        data = np.zeros( (513,513) );\n",
    "        data[0:image.shape[0],0:image.shape[1]] = image;\n",
    "        #切割后的图像位于数据的位置\n",
    "        index = 0;\n",
    "        #将图片分割成九块\n",
    "        for row in np.arange(3):\n",
    "            for col in np.arange(3):\n",
    "                if index<5:\n",
    "                    train_data[train_index,:,:] = data[171*row:171*(row+1),171*col:171*(col+1)];\n",
    "                    train_label[train_index] = i;\n",
    "                    train_index+=1;\n",
    "                else:\n",
    "                    test_data[test_index,:,:] = data[171*row:171*(row+1),171*col:171*(col+1)];\n",
    "                    test_label[test_index] = i;\n",
    "                    test_index+=1;\n",
    "                index+=1;\n",
    "    return train_data,test_data,train_label,test_label;"
   ]
  },
  {
   "cell_type": "code",
   "execution_count": null,
   "metadata": {},
   "outputs": [],
   "source": [
    "radius = 1;\n",
    "n_point = radius * 8;\n",
    "\n",
    "def texture_detect():\n",
    "    train_hist = np.zeros( (200,256) );\n",
    "    test_hist = np.zeros( (160,256) );\n",
    "    for i in np.arange(200):\n",
    "        #使用LBP方法提取图像的纹理特征.\n",
    "        lbp=skft.local_binary_pattern(train_data[i],n_point,radius,'default');\n",
    "        #统计图像的直方图\n",
    "        max_bins = int(lbp.max() + 1);\n",
    "        #hist size:256\n",
    "        train_hist[i], _ = np.histogram(lbp, normed=True, bins=max_bins, range=(0, max_bins));\n",
    "\n",
    "    for i in np.arange(160):\n",
    "        lbp = skft.local_binary_pattern(test_data[i],n_point,radius,'default');\n",
    "        #统计图像的直方图\n",
    "        max_bins = int(lbp.max() + 1);\n",
    "        #hist size:256\n",
    "        test_hist[i], _ = np.histogram(lbp, normed=True, bins=max_bins, range=(0, max_bins));\n",
    "        bins = np.arange(0, 260, 5)\n",
    "        print(test_hist)\n",
    "    \n",
    "    \n",
    "    return train_hist,test_hist;"
   ]
  },
  {
   "cell_type": "code",
   "execution_count": null,
   "metadata": {},
   "outputs": [],
   "source": [
    "import matplotlib.image as mpimg\n",
    "import matplotlib.pyplot as plt\n",
    "import numpy as np\n",
    "from sklearn.multiclass import OneVsRestClassifier\n",
    "from sklearn.svm import SVR\n",
    "from skimage import feature as skft\n",
    "train_data,test_data,train_label,test_label= loadPicture();\n",
    "train_hist,test_hist = texture_detect();\n",
    "svr_rbf = SVR(kernel='rbf', C=1e3, gamma=0.1);\n",
    "OneVsRestClassifier(svr_rbf,-1).fit(train_hist, train_label).score(test_hist,test_label)"
   ]
  },
  {
   "cell_type": "code",
   "execution_count": null,
   "metadata": {},
   "outputs": [],
   "source": []
  }
 ],
 "metadata": {
  "kernelspec": {
   "display_name": "Python 3",
   "language": "python",
   "name": "python3"
  },
  "language_info": {
   "codemirror_mode": {
    "name": "ipython",
    "version": 3
   },
   "file_extension": ".py",
   "mimetype": "text/x-python",
   "name": "python",
   "nbconvert_exporter": "python",
   "pygments_lexer": "ipython3",
   "version": "3.6.10"
  },
  "toc": {
   "base_numbering": 1,
   "nav_menu": {},
   "number_sections": true,
   "sideBar": true,
   "skip_h1_title": false,
   "title_cell": "Table of Contents",
   "title_sidebar": "Contents",
   "toc_cell": false,
   "toc_position": {},
   "toc_section_display": true,
   "toc_window_display": false
  }
 },
 "nbformat": 4,
 "nbformat_minor": 4
}
