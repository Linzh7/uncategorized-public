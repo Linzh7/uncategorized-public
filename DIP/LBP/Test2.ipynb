{
 "cells": [
  {
   "cell_type": "code",
   "execution_count": null,
   "metadata": {},
   "outputs": [],
   "source": [
    "import matplotlib.pyplot as plt\n",
    "import numpy as np\n",
    "from sklearn.multiclass import OneVsRestClassifier\n",
    "from sklearn.svm import SVR\n",
    "from skimage import feature as skft\n",
    "from skimage.transform import rotate\n",
    "from skimage.feature import local_binary_pattern\n",
    "from skimage import data, io, data_dir, filters, feature\n",
    "from skimage.color import label2rgb\n",
    "import skimage\n",
    "import matplotlib.pyplot as plt\n",
    "from PIL import Image\n",
    "import cv2\n",
    "import csv"
   ]
  },
  {
   "cell_type": "code",
   "execution_count": null,
   "metadata": {},
   "outputs": [],
   "source": [
    "# 常数\n",
    "train_amount = 511\n",
    "test_amount = 207\n",
    "# lbp常量\n",
    "radius = 1\n",
    "n_point = radius * 8"
   ]
  },
  {
   "cell_type": "code",
   "execution_count": null,
   "metadata": {},
   "outputs": [],
   "source": [
    "def loadPicture():\n",
    "    # read in\n",
    "    with open('train_jpg/list.csv', 'r') as csvfile:\n",
    "        reader = csv.reader(csvfile)\n",
    "        rows = [row for row in reader]\n",
    "    train_name_data = np.array(rows)\n",
    "    with open('test_jpg/list.csv', 'r') as csvfile:\n",
    "        reader = csv.reader(csvfile)\n",
    "        rows = [row for row in reader]\n",
    "    test_name_data = np.array(rows)\n",
    "    # init data\n",
    "    train_data = np.zeros((train_amount, 128, 128))\n",
    "    test_data = np.zeros((test_amount, 128, 128))\n",
    "    train_label = np.zeros((train_amount))\n",
    "    test_label = np.zeros((test_amount))\n",
    "    # init lable\n",
    "    count = 0\n",
    "    tmp = train_name_data[0][1]\n",
    "    for i in range(train_amount):\n",
    "        train_data[i] = cv2.imread(\n",
    "            \"train_jpg/\" + train_name_data[i][0] + \".jpg\")\n",
    "        if tmp == train_name_data[i][1]:\n",
    "            train_label[i] = count\n",
    "        else:\n",
    "            count += 1\n",
    "            tmp = train_name_data[i][1]\n",
    "            train_label[i] = count\n",
    "    # init\n",
    "    count = 0\n",
    "    tmp = test_name_data[0][1]\n",
    "    for i in range(test_amount):\n",
    "        test_data[i] = cv2.imread(\"test_jpg/\" + test_name_data[i][0] + \".jpg\")\n",
    "        if tmp == test_name_data[i][1]:\n",
    "            test_label[i] = count\n",
    "        else:\n",
    "            count += 1\n",
    "            tmp = test_name_data[i][1]\n",
    "            test_label[i] = count\n",
    "    return train_data, test_data, train_label, test_label"
   ]
  },
  {
   "cell_type": "code",
   "execution_count": null,
   "metadata": {},
   "outputs": [],
   "source": [
    "def texture_detect():\n",
    "    train_hist = np.zeros((train_amount, 256))\n",
    "    test_hist = np.zeros((test_amount, 256))\n",
    "    for i in np.arange(train_amount):\n",
    "        # 使用LBP方法提取图像的纹理特征.\n",
    "        lbp = skft.local_binary_pattern(\n",
    "            train_data[i], n_point, radius, 'default')\n",
    "        # 统计图像的直方图\n",
    "        max_bins = int(lbp.max() + 1)\n",
    "        # hist size:256\n",
    "        train_hist[i], _ = np.histogram(\n",
    "            lbp, normed=True, bins=max_bins, range=(0, max_bins))\n",
    "    for i in np.arange(test_amount):\n",
    "        lbp = skft.local_binary_pattern(\n",
    "            test_data[i], n_point, radius, 'default')\n",
    "        # 统计图像的直方图\n",
    "        max_bins = int(lbp.max() + 1)\n",
    "        # hist size:256\n",
    "        test_hist[i], _ = np.histogram(\n",
    "            lbp, normed=True, bins=max_bins, range=(0, max_bins))\n",
    "    print('train\\n', train_hist)\n",
    "    print('test\\n', test_hist)\n",
    "    return train_hist, test_hist"
   ]
  },
  {
   "cell_type": "code",
   "execution_count": null,
   "metadata": {},
   "outputs": [],
   "source": [
    "train_data, test_data, train_label, test_label = loadPicture()\n",
    "train_hist, test_hist = texture_detect()\n",
    "svr_rbf = SVR(kernel='rbf', C=1e3, gamma=0.1)\n",
    "OneVsRestClassifier(svr_rbf, -1).fit(train_hist,\n",
    "                                     train_label).score(test_hist, test_label)"
   ]
  },
  {
   "cell_type": "code",
   "execution_count": null,
   "metadata": {},
   "outputs": [],
   "source": [
    "svr_rbf = SVR(kernel='rbf', C=1e3, gamma=0.1);\n",
    "OneVsRestClassifier(svr_rbf,-1).fit(train_hist, train_label).score(test_hist,test_label)"
   ]
  },
  {
   "cell_type": "code",
   "execution_count": null,
   "metadata": {},
   "outputs": [],
   "source": [
    "image = "
   ]
  },
  {
   "cell_type": "code",
   "execution_count": null,
   "metadata": {},
   "outputs": [],
   "source": [
    "# settings for LBP\n",
    "radius = 1  # LBP算法中范围半径的取值\n",
    "n_points = 8 * radius  # 领域像素点数"
   ]
  },
  {
   "cell_type": "code",
   "execution_count": null,
   "metadata": {},
   "outputs": [],
   "source": [
    "image1 = cv2.cvtColor(image, cv2.COLOR_BGR2RGB)\n",
    "plt.subplot(111)\n",
    "plt.imshow(image1)\n",
    "plt.show()"
   ]
  },
  {
   "cell_type": "code",
   "execution_count": null,
   "metadata": {},
   "outputs": [],
   "source": [
    "image = cv2.cvtColor(image1, cv2.COLOR_BGR2GRAY)\n",
    "plt.subplot(111)\n",
    "plt.imshow(image, plt.cm.gray)\n",
    "plt.show()"
   ]
  },
  {
   "cell_type": "code",
   "execution_count": null,
   "metadata": {},
   "outputs": [],
   "source": [
    "lbp = local_binary_pattern(image, n_points, radius)\n",
    "plt.imshow(lbp, plt.cm.gray)\n",
    "plt.show()"
   ]
  },
  {
   "cell_type": "code",
   "execution_count": null,
   "metadata": {},
   "outputs": [],
   "source": [
    "train_data, test_data, train_label, test_label = loadPicture()\n",
    "train_hist, test_hist = texture_detect()\n",
    "svr_rbf = SVR(kernel='rbf', C=1e3, gamma=0.1)\n",
    "OneVsRestClassifier(svr_rbf, -1).fit(train_hist, train_label).score(test_hist, test_label)"
   ]
  }
 ],
 "metadata": {
  "kernelspec": {
   "display_name": "Python 3",
   "language": "python",
   "name": "python3"
  },
  "language_info": {
   "codemirror_mode": {
    "name": "ipython",
    "version": 3
   },
   "file_extension": ".py",
   "mimetype": "text/x-python",
   "name": "python",
   "nbconvert_exporter": "python",
   "pygments_lexer": "ipython3",
   "version": "3.6.10"
  },
  "toc": {
   "base_numbering": 1,
   "nav_menu": {},
   "number_sections": true,
   "sideBar": true,
   "skip_h1_title": false,
   "title_cell": "Table of Contents",
   "title_sidebar": "Contents",
   "toc_cell": false,
   "toc_position": {},
   "toc_section_display": true,
   "toc_window_display": false
  }
 },
 "nbformat": 4,
 "nbformat_minor": 4
}
