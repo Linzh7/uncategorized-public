{
 "cells": [
  {
   "cell_type": "code",
   "execution_count": null,
   "metadata": {},
   "outputs": [],
   "source": [
    "import time\n",
    "import pandas as pd"
   ]
  },
  {
   "cell_type": "code",
   "execution_count": null,
   "metadata": {},
   "outputs": [],
   "source": [
    "# coding=utf-8\n",
    "from pandas import read_csv\n",
    "from pandas import DataFrame\n",
    "from sklearn.preprocessing import MinMaxScaler\n",
    "from pandas import concat\n",
    "from sklearn.preprocessing import LabelEncoder\n",
    "\n",
    "\n",
    "def series_to_supervised(data, n_in=1, n_out=1, dropnan=True):\n",
    "    n_vars = 1 if type(data) is list else data.shape[1]\n",
    "    df = DataFrame(data)\n",
    "    print('待转换数据')\n",
    "    print(df.head())\n",
    "    cols, names = list(), list()\n",
    "    for i in range(n_in, 0, -1):\n",
    "        cols.append(df.shift(i))\n",
    "        print('shift数据')\n",
    "        print(cols[0][0:5])\n",
    "        names += [('var%d(t-%d)' % (j + 1, i)) for j in range(n_vars)]\n",
    "        print('names数据')\n",
    "        print(names[0:5])\n",
    "    for i in range(0, n_out):\n",
    "        cols.append(df.shift(-i))\n",
    "        if i == 0:\n",
    "            names += [('var%d(t)' % (j + 1)) for j in range(n_vars)]\n",
    "        else:\n",
    "            names += [('var%d(t+%d)' % (j + 1, i)) for j in range(n_vars)]\n",
    "    agg = concat(cols, axis=1)\n",
    "    print('拼接')\n",
    "    print(agg[0:5])\n",
    "    agg.columns = names\n",
    "    if dropnan:\n",
    "        agg.dropna(inplace=True)\n",
    "    return agg\n",
    "\n",
    "\n",
    "\n",
    "# print(values[0:5])\n",
    "\n",
    "\n",
    "# encoder = LabelEncoder()\n",
    "# values[:, 4] = encoder.fit_transform(values[:, 4])\n",
    "# print('标签编码')\n",
    "# print(values[0:5])\n",
    "\n",
    "# values = values.astype('float32')\n",
    "# scaler = MinMaxScaler(feature_range=(0, 1))\n",
    "# scaled = scaler.fit_transform(values)\n",
    "# print('缩放')\n",
    "# print(scaled[0:5])\n",
    "\n",
    "# reframed = series_to_supervised(scaled, 1, 1)\n",
    "# print('有监督')\n",
    "# print(reframed[0:5])\n",
    "\n",
    "# reframed.drop(reframed.columns[9:16], axis=1, inplace=True)\n",
    "# print('删除不预测的列')\n",
    "# print(reframed.head())\n"
   ]
  },
  {
   "cell_type": "code",
   "execution_count": null,
   "metadata": {},
   "outputs": [],
   "source": [
    "def time2timestamp(timeStr):\n",
    "    return int(time.mktime(time.strptime(timeStr, \"%y-%m-%d %H:%M:%S\")))\n",
    "\n",
    "\n",
    "def labelEncoder(column):\n",
    "    encoder = LabelEncoder()\n",
    "    return encoder.fit_transform(column)\n",
    "\n",
    "def printNoInstance(ls, type):\n",
    "    for i, e in enumerate(ls):\n",
    "        if not isinstance(e, type):\n",
    "            # print(i, end=' ')\n",
    "            try:\n",
    "                type(e)\n",
    "            except Exception as e:\n",
    "                print(\"Error at {}: {}\".format(i, e))\n"
   ]
  },
  {
   "cell_type": "code",
   "execution_count": null,
   "metadata": {},
   "outputs": [],
   "source": [
    "full_data = read_csv(\"./error_full.csv\")\n",
    "data = full_data[[\"group\", \"报文时间\", \"车速\", '总电压', '总电流', 'SOC（%）', 'DC-DC状态', '挡位', '电池单体电压最高值', '电池单体电压最低值', '最高温度值', '最低温度值', '最高报警等级', '加速度']]\n",
    "data = data.drop(data[data[\"挡位\"] == \"停车P挡\"].index)\n",
    "data[\"报文时间\"] = data[\"报文时间\"].map(time2timestamp)\n",
    "data = data[data[\"总电压\"] != \"异常\"]\n",
    "data = data.apply(pd.to_numeric, errors='ignore')\n",
    "for k, v in dict(data.dtypes).items():\n",
    "    if v == 'object':\n",
    "        data[k] = labelEncoder(data[k])\n",
    "data = data.astype('float64')"
   ]
  },
  {
   "cell_type": "code",
   "execution_count": null,
   "metadata": {},
   "outputs": [],
   "source": [
    "data.dtypes\n"
   ]
  },
  {
   "cell_type": "code",
   "execution_count": null,
   "metadata": {},
   "outputs": [],
   "source": [
    "if True not in data.isnull():\n",
    "    data.to_csv(\"error_limit.csv\")\n",
    "else:\n",
    "    print(\"error\")\n"
   ]
  },
  {
   "cell_type": "code",
   "execution_count": null,
   "metadata": {},
   "outputs": [],
   "source": [
    "for key in data.keys():\n",
    "    # print(data[key].dtype)\n",
    "    print(\"Key: {}\".format(key))\n",
    "    printNoInstance(list(data[key]), float)\n"
   ]
  },
  {
   "cell_type": "code",
   "execution_count": null,
   "metadata": {},
   "outputs": [],
   "source": [
    "data.dtypes"
   ]
  },
  {
   "cell_type": "code",
   "execution_count": null,
   "metadata": {},
   "outputs": [],
   "source": []
  }
 ],
 "metadata": {
  "interpreter": {
   "hash": "132747b86887e4ef8ae18fd8cdb3504bb0c45a42c67914925c3315afe59af0fd"
  },
  "kernelspec": {
   "display_name": "Python 3.8.5 64-bit ('base': conda)",
   "language": "python",
   "name": "python3"
  },
  "language_info": {
   "codemirror_mode": {
    "name": "ipython",
    "version": 3
   },
   "file_extension": ".py",
   "mimetype": "text/x-python",
   "name": "python",
   "nbconvert_exporter": "python",
   "pygments_lexer": "ipython3",
   "version": "3.9.7"
  },
  "orig_nbformat": 4
 },
 "nbformat": 4,
 "nbformat_minor": 2
}
