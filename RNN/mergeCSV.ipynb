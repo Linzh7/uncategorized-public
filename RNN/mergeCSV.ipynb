{
 "cells": [
  {
   "cell_type": "code",
   "execution_count": null,
   "metadata": {},
   "outputs": [],
   "source": [
    "from LinzhUtil import *\n",
    "import pandas as pd\n",
    "import time\n",
    "from sklearn.preprocessing import LabelEncoder\n"
   ]
  },
  {
   "cell_type": "code",
   "execution_count": null,
   "metadata": {},
   "outputs": [],
   "source": [
    "index = 30\n",
    "fileList = getFileList(\"./busDataset\")\n",
    "full_pd = pd.read_csv(\"./normal2.csv\")\n",
    "full_pd = full_pd.fillna(method='ffill')\n",
    "full_pd[\"Unnamed: 0\"] = index\n",
    "index += 1"
   ]
  },
  {
   "cell_type": "code",
   "execution_count": null,
   "metadata": {},
   "outputs": [],
   "source": [
    "for file in fileList:\n",
    "    if \"err\" in file:\n",
    "        continue\n",
    "    tmp_pd = pd.read_csv(\"./busDataset/{}\".format(file))\n",
    "    tmp_pd = tmp_pd.fillna(method='ffill')\n",
    "    tmp_pd[\"Unnamed: 0\"] = index\n",
    "    index += 1\n",
    "    full_pd = pd.concat((tmp_pd, full_pd), axis=0, ignore_index=True)\n",
    "    # break"
   ]
  },
  {
   "cell_type": "code",
   "execution_count": null,
   "metadata": {},
   "outputs": [],
   "source": [
    "full_pd = full_pd.rename(columns={\"Unnamed: 0\": \"group\"})\n",
    "full_pd = full_pd.dropna(axis=1, how='all')\n",
    "full_pd = full_pd.loc[:, (full_pd != full_pd.iloc[0]).any()]\n",
    "# full_pd = full_pd.drop('自定义83', axis=1)\n",
    "# full_pd = full_pd.drop('自定义82', axis=1)\n",
    "full_pd = full_pd[full_pd[\"车速\"] != \"异常\"]\n",
    "full_pd['车速'] = full_pd['车速'].astype(\"float64\")\n",
    "full_pd[\"加速度\"] = full_pd[\"车速\"].diff(1)\n",
    "full_pd[\"加速度\"][0] = 0\n"
   ]
  },
  {
   "cell_type": "code",
   "execution_count": null,
   "metadata": {},
   "outputs": [],
   "source": [
    "for i, e in enumerate(list(full_pd['车速'])):\n",
    "    try:\n",
    "        float(e)\n",
    "    except Exception as e:\n",
    "        print(\"Error at {}: {}\".format(i, e))\n"
   ]
  },
  {
   "cell_type": "code",
   "execution_count": null,
   "metadata": {},
   "outputs": [],
   "source": [
    "if True not in full_pd.isnull():\n",
    "    full_pd.to_csv(\"normal_full.csv\")\n",
    "else:\n",
    "    print(\"error\")"
   ]
  },
  {
   "cell_type": "code",
   "execution_count": null,
   "metadata": {},
   "outputs": [],
   "source": [
    "def time2timestamp(timeStr):\n",
    "    return int(time.mktime(time.strptime(timeStr, \"%y-%m-%d %H:%M:%S\")))\n",
    "\n",
    "\n",
    "def labelEncoder(column):\n",
    "    encoder = LabelEncoder()\n",
    "    return encoder.fit_transform(column)\n",
    "\n",
    "\n",
    "def printNoInstance(ls, type):\n",
    "    for i, e in enumerate(ls):\n",
    "        if not isinstance(e, type):\n",
    "            # print(i, end=' ')\n",
    "            try:\n",
    "                type(e)\n",
    "            except Exception as e:\n",
    "                print(\"Error at {}: {}\".format(i, e))\n"
   ]
  },
  {
   "cell_type": "code",
   "execution_count": null,
   "metadata": {},
   "outputs": [],
   "source": [
    "full_data = full_pd\n",
    "data = full_data[[\"group\", \"报文时间\", \"车速\", '总电压', '总电流', 'SOC（%）', 'DC-DC状态', '挡位', '电池单体电压最高值', '电池单体电压最低值', '最高温度值', '最低温度值', '最高报警等级', '加速度']]\n",
    "data = data.drop(data[data[\"挡位\"] == \"停车P挡\"].index)\n",
    "data[\"报文时间\"] = data[\"报文时间\"].map(time2timestamp)\n",
    "data = data[data[\"总电压\"] != \"异常\"]\n",
    "data = data[data['电池单体电压最高值'] != '无效']\n",
    "data = data[data['电池单体电压最高值'] != '异常']\n",
    "data = data[data['电池单体电压最低值'] != '无效']\n",
    "data = data[data['最高温度值'] != '异常']\n",
    "data = data[data['最低温度值'] != '异常']\n",
    "data = data.apply(pd.to_numeric, errors='ignore')\n"
   ]
  },
  {
   "cell_type": "code",
   "execution_count": null,
   "metadata": {},
   "outputs": [],
   "source": [
    "for k, v in dict(data.dtypes).items():\n",
    "    if v == 'object':\n",
    "        print(k)\n",
    "        data[k] = labelEncoder(data[k])"
   ]
  },
  {
   "cell_type": "code",
   "execution_count": null,
   "metadata": {},
   "outputs": [],
   "source": [
    "data = data.astype('float64')\n",
    "if True not in data.isnull():\n",
    "    data.to_csv(\"normal_limit.csv\")\n",
    "else:\n",
    "    print(\"error\")\n"
   ]
  }
 ],
 "metadata": {
  "interpreter": {
   "hash": "132747b86887e4ef8ae18fd8cdb3504bb0c45a42c67914925c3315afe59af0fd"
  },
  "kernelspec": {
   "display_name": "Python 3.8.5 64-bit ('base': conda)",
   "language": "python",
   "name": "python3"
  },
  "language_info": {
   "codemirror_mode": {
    "name": "ipython",
    "version": 3
   },
   "file_extension": ".py",
   "mimetype": "text/x-python",
   "name": "python",
   "nbconvert_exporter": "python",
   "pygments_lexer": "ipython3",
   "version": "3.8.5"
  },
  "orig_nbformat": 4
 },
 "nbformat": 4,
 "nbformat_minor": 2
}
